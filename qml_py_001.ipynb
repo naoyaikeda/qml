{
 "cells": [
  {
   "cell_type": "code",
   "execution_count": 2,
   "metadata": {},
   "outputs": [],
   "source": [
    "import numpy as np\n",
    "from sklearn import datasets\n",
    "from sklearn.preprocessing import Normalizer\n",
    "from sklearn.preprocessing import StandardScaler\n",
    "\n",
    "iris_data = datasets.load_iris()\n",
    "x1 = iris_data.data[:,0].reshape(-1, 1)\n",
    "x2 = iris_data.data[:,1].reshape(-1, 1)\n",
    "\n",
    "stdsc = StandardScaler()\n",
    "x1_norm = stdsc.fit_transform(x1)\n",
    "x2_norm = stdsc.fit_transform(x2)\n",
    "\n",
    "normalizer = Normalizer()\n",
    "normalized_data_set = normalizer.transform(np.hstack([x1_norm, x2_norm]))"
   ]
  },
  {
   "cell_type": "code",
   "execution_count": null,
   "metadata": {},
   "outputs": [],
   "source": []
  }
 ],
 "metadata": {
  "kernelspec": {
   "display_name": "Python 3",
   "language": "python",
   "name": "python3"
  },
  "language_info": {
   "codemirror_mode": {
    "name": "ipython",
    "version": 3
   },
   "file_extension": ".py",
   "mimetype": "text/x-python",
   "name": "python",
   "nbconvert_exporter": "python",
   "pygments_lexer": "ipython3",
   "version": "3.6.8"
  }
 },
 "nbformat": 4,
 "nbformat_minor": 2
}
